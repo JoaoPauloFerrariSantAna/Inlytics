{
 "cells": [
  {
   "cell_type": "markdown",
   "metadata": {},
   "source": [
    "### Análise dos dados\n",
    "\n",
    "- Análise univariada dos dados\n",
    "- Análise multivariada dos dados"
   ]
  },
  {
   "cell_type": "code",
   "execution_count": null,
   "metadata": {
    "vscode": {
     "languageId": "plaintext"
    }
   },
   "outputs": [],
   "source": [
    "numericos = df_vendas_limpo.select_dtypes('number').columns.tolist()\n",
    "categoricos = df_vendas_limpo.select_dtypes('object').columns.tolist()\n",
    "\n",
    "print(f\"Há {len(numericos)} dados numéricos, sendo eles:\")\n",
    "print(numericos)\n",
    "print(f\"\\nHá {len(categoricos)} dados categóricos, sendo eles:\")\n",
    "print(categoricos)"
   ]
  },
  {
   "cell_type": "markdown",
   "metadata": {},
   "source": [
    "Estatística descritiva"
   ]
  },
  {
   "cell_type": "code",
   "execution_count": null,
   "metadata": {
    "vscode": {
     "languageId": "plaintext"
    }
   },
   "outputs": [],
   "source": [
    "df_vendas_limpo.describe().T.drop(labels=[\"InvoiceDate\", \"CustomerID\"])"
   ]
  },
  {
   "cell_type": "markdown",
   "metadata": {},
   "source": [
    "- A maioria dos valores dos produtos unicos são baixos tendo em 75% apenas 3.75.\n",
    "- A quantidade de produtos comprados esta na mediana de 6 produtos por compra.\n",
    "- "
   ]
  },
  {
   "cell_type": "code",
   "execution_count": null,
   "metadata": {
    "vscode": {
     "languageId": "plaintext"
    }
   },
   "outputs": [],
   "source": []
  }
 ],
 "metadata": {
  "language_info": {
   "name": "python"
  }
 },
 "nbformat": 4,
 "nbformat_minor": 2
}
